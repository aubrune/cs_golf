{
 "cells": [
  {
   "cell_type": "code",
   "execution_count": 151,
   "metadata": {},
   "outputs": [],
   "source": [
    "import rospy\n",
    "import tf\n",
    "from moveit_msgs.srv import GetPositionIK, GetPositionIKRequest\n",
    "from geometry_msgs.msg import PoseStamped\n",
    "from cs_golf.robot import Robot\n",
    "from cs_golf.trajectories import trapezoidal_speed_trajectory\n",
    "from copy import deepcopy\n",
    "from cs_golf.transformations import quat_rotate, multiply_transform, inverse_transform, list_to_pose_stamped"
   ]
  },
  {
   "cell_type": "code",
   "execution_count": 5,
   "metadata": {},
   "outputs": [],
   "source": [
    "rospy.init_node(\"putter_rotations\")"
   ]
  },
  {
   "cell_type": "code",
   "execution_count": 73,
   "metadata": {},
   "outputs": [],
   "source": [
    "robot = Robot()"
   ]
  },
  {
   "cell_type": "code",
   "execution_count": 6,
   "metadata": {},
   "outputs": [],
   "source": [
    "tfl = tf.TransformListener()"
   ]
  },
  {
   "cell_type": "code",
   "execution_count": 13,
   "metadata": {},
   "outputs": [],
   "source": [
    "tfb = tf.TransformBroadcaster()"
   ]
  },
  {
   "cell_type": "code",
   "execution_count": 12,
   "metadata": {},
   "outputs": [],
   "source": [
    "# rosrun tf static_transform_publisher -0.385 -0.396 0.02 -0.604 -0.405 -0.601 0.331 iiwa_link_ee putter 50"
   ]
  },
  {
   "cell_type": "code",
   "execution_count": 84,
   "metadata": {},
   "outputs": [
    {
     "data": {
      "text/plain": [
       "([0.12532283301822617, -0.3851893791795562, 0.7587413204452541],\n",
       " [0.6154466337612458,\n",
       "  0.40159065654929116,\n",
       "  0.6013661089366799,\n",
       "  0.31354296130931947])"
      ]
     },
     "execution_count": 84,
     "metadata": {},
     "output_type": "execute_result"
    }
   ],
   "source": [
    "tfl.lookupTransform(\"world\", \"iiwa_link_ee\", rospy.Time(0))"
   ]
  },
  {
   "cell_type": "code",
   "execution_count": 85,
   "metadata": {},
   "outputs": [],
   "source": [
    "req = GetPositionIKRequest()\n",
    "req.ik_request.group_name = \"manipulator\"\n",
    "req.ik_request.ik_link_name = \"iiwa_link_ee\""
   ]
  },
  {
   "cell_type": "code",
   "execution_count": 105,
   "metadata": {},
   "outputs": [],
   "source": [
    "p = PoseStamped()\n",
    "p.header.frame_id = \"world\"\n",
    "p.pose.position.x = 0.12\n",
    "p.pose.position.y = -0.38\n",
    "p.pose.position.z = 0.9\n",
    "p.pose.orientation.x = 0.6154466337612458\n",
    "p.pose.orientation.y = 0.40159065654929116\n",
    "p.pose.orientation.z = 0.6013661089366799\n",
    "p.pose.orientation.w = 0.31354296130931947"
   ]
  },
  {
   "cell_type": "code",
   "execution_count": 106,
   "metadata": {},
   "outputs": [],
   "source": [
    "req.ik_request.pose_stamped = p\n",
    "req.ik_request.robot_state = robot.current_state"
   ]
  },
  {
   "cell_type": "code",
   "execution_count": 107,
   "metadata": {},
   "outputs": [
    {
     "data": {
      "text/plain": [
       "ik_request: \n",
       "  group_name: \"manipulator\"\n",
       "  robot_state: \n",
       "    joint_state: \n",
       "      header: \n",
       "        seq: 0\n",
       "        stamp: \n",
       "          secs: 0\n",
       "          nsecs:         0\n",
       "        frame_id: \"world\"\n",
       "      name: [iiwa_joint_1, iiwa_joint_2, iiwa_joint_3, iiwa_joint_4, iiwa_joint_5, iiwa_joint_6,\n",
       "  iiwa_joint_7]\n",
       "      position: [-1.5531087493483133, -0.0038530481978972498, -0.01682261604940589, -1.502484686923476, 1.4973296726054919, 1.6726883641467405, 0.576573583704487]\n",
       "      velocity: []\n",
       "      effort: []\n",
       "    multi_dof_joint_state: \n",
       "      header: \n",
       "        seq: 0\n",
       "        stamp: \n",
       "          secs: 0\n",
       "          nsecs:         0\n",
       "        frame_id: \"world\"\n",
       "      joint_names: []\n",
       "      transforms: []\n",
       "      twist: []\n",
       "      wrench: []\n",
       "    attached_collision_objects: []\n",
       "    is_diff: False\n",
       "  constraints: \n",
       "    name: ''\n",
       "    joint_constraints: []\n",
       "    position_constraints: []\n",
       "    orientation_constraints: []\n",
       "    visibility_constraints: []\n",
       "  avoid_collisions: False\n",
       "  ik_link_name: \"iiwa_link_ee\"\n",
       "  pose_stamped: \n",
       "    header: \n",
       "      seq: 0\n",
       "      stamp: \n",
       "        secs: 0\n",
       "        nsecs:         0\n",
       "      frame_id: \"world\"\n",
       "    pose: \n",
       "      position: \n",
       "        x: 0.12\n",
       "        y: -0.38\n",
       "        z: 0.9\n",
       "      orientation: \n",
       "        x: 0.615446633761\n",
       "        y: 0.401590656549\n",
       "        z: 0.601366108937\n",
       "        w: 0.313542961309\n",
       "  ik_link_names: []\n",
       "  pose_stamped_vector: []\n",
       "  timeout: \n",
       "    secs: 0\n",
       "    nsecs:         0\n",
       "  attempts: 0"
      ]
     },
     "execution_count": 107,
     "metadata": {},
     "output_type": "execute_result"
    }
   ],
   "source": [
    "req"
   ]
  },
  {
   "cell_type": "code",
   "execution_count": 108,
   "metadata": {},
   "outputs": [],
   "source": [
    "ik = rospy.ServiceProxy(\"/iiwa/compute_ik\", GetPositionIK)"
   ]
  },
  {
   "cell_type": "code",
   "execution_count": 109,
   "metadata": {},
   "outputs": [],
   "source": [
    "result = ik(req)"
   ]
  },
  {
   "cell_type": "code",
   "execution_count": 110,
   "metadata": {},
   "outputs": [],
   "source": [
    "if result.error_code.val == -31:\n",
    "    print(\"No IK solution\")"
   ]
  },
  {
   "cell_type": "code",
   "execution_count": 111,
   "metadata": {},
   "outputs": [],
   "source": [
    "traj = trapezoidal_speed_trajectory(result.solution, robot.current_state, 1, 1)"
   ]
  },
  {
   "cell_type": "code",
   "execution_count": 112,
   "metadata": {},
   "outputs": [],
   "source": [
    "robot.display(traj)"
   ]
  },
  {
   "cell_type": "code",
   "execution_count": 121,
   "metadata": {},
   "outputs": [],
   "source": [
    "DISTANCE_TO_CENTRE = 0.075"
   ]
  },
  {
   "cell_type": "code",
   "execution_count": 135,
   "metadata": {},
   "outputs": [],
   "source": [
    "base_putter = [[0.111, -0.603, 0.029],  [0,0,0,1]]\n",
    "world_P_centre = deepcopy(base_putter)\n",
    "world_P_centre[0][0] += DISTANCE_TO_CENTRE"
   ]
  },
  {
   "cell_type": "code",
   "execution_count": 136,
   "metadata": {},
   "outputs": [
    {
     "data": {
      "text/plain": [
       "[[0.186, -0.603, 0.029], [0, 0, 0, 1]]"
      ]
     },
     "execution_count": 136,
     "metadata": {},
     "output_type": "execute_result"
    }
   ],
   "source": [
    "world_P_centre"
   ]
  },
  {
   "cell_type": "code",
   "execution_count": 149,
   "metadata": {},
   "outputs": [],
   "source": [
    "gripper_T_putter = [[-0.385, -0.396, 0.02], [-0.604, -0.405, -0.601, 0.331]]\n",
    "putter_T_gripper = inverse_transform(gripper_T_putter)"
   ]
  },
  {
   "cell_type": "code",
   "execution_count": 141,
   "metadata": {},
   "outputs": [],
   "source": [
    "rotation = tf.transformations.quaternion_about_axis(0.5, (0, 0, 1))\n",
    "position = quat_rotate(rotation, [-DISTANCE_TO_CENTRE, 0, 0])\n",
    "centre_T_putter = [position, rotation]"
   ]
  },
  {
   "cell_type": "code",
   "execution_count": 142,
   "metadata": {},
   "outputs": [],
   "source": [
    "world_P_centre = ball_rot"
   ]
  },
  {
   "cell_type": "code",
   "execution_count": 144,
   "metadata": {},
   "outputs": [],
   "source": [
    "world_P_putter = multiply_transform(world_P_centre, centre_T_putter)"
   ]
  },
  {
   "cell_type": "code",
   "execution_count": 145,
   "metadata": {},
   "outputs": [],
   "source": [
    "tfb.sendTransform(world_P_putter[0], world_P_putter[1], rospy.Time.now(), \"putter2\", \"world\")"
   ]
  },
  {
   "cell_type": "code",
   "execution_count": 170,
   "metadata": {
    "scrolled": true
   },
   "outputs": [
    {
     "name": "stdout",
     "output_type": "stream",
     "text": [
      "(0, -1.0)\n",
      "(1, -0.9814)\n",
      "(2, -0.9628)\n",
      "(3, -0.9442)\n",
      "(4, -0.9256)\n",
      "(5, -0.907)\n",
      "(6, -0.8884)\n",
      "(7, -0.8698)\n",
      "(8, -0.8512)\n",
      "(9, -0.8326)\n",
      "(10, -0.814)\n",
      "(11, -0.7954)\n",
      "(12, -0.7767999999999999)\n",
      "(13, -0.7582)\n",
      "(14, -0.7396)\n",
      "(15, -0.721)\n",
      "(16, -0.7023999999999999)\n",
      "(17, -0.6838)\n",
      "(18, -0.6652)\n",
      "(19, -0.6466)\n",
      "(20, -0.6279999999999999)\n",
      "(21, -0.6093999999999999)\n",
      "(22, -0.5908)\n",
      "(23, -0.5722)\n",
      "(24, -0.5536)\n",
      "(25, -0.5349999999999999)\n",
      "(26, -0.5164)\n",
      "(27, -0.4977999999999999)\n",
      "(28, -0.47919999999999996)\n",
      "(29, -0.4605999999999999)\n",
      "(30, -0.44199999999999995)\n",
      "(31, -0.4234)\n",
      "(32, -0.40479999999999994)\n",
      "(33, -0.3862)\n",
      "(34, -0.3675999999999999)\n",
      "(35, -0.34899999999999987)\n",
      "(36, -0.3303999999999999)\n",
      "(37, -0.31179999999999997)\n",
      "(38, -0.2931999999999999)\n",
      "(39, -0.27459999999999996)\n",
      "(40, -0.2559999999999999)\n",
      "(41, -0.23739999999999994)\n",
      "(42, -0.2188)\n",
      "(43, -0.20019999999999993)\n",
      "(44, -0.18159999999999998)\n",
      "(45, -0.16299999999999992)\n",
      "(46, -0.14439999999999997)\n",
      "(47, -0.12580000000000002)\n",
      "(48, -0.10719999999999996)\n",
      "(49, -0.08860000000000001)\n",
      "(50, -0.06999999999999995)\n",
      "(51, -0.0514)\n",
      "(52, -0.03280000000000005)\n",
      "(53, -0.01419999999999999)\n",
      "(54, 0.0044000000000001815)\n",
      "(55, 0.02300000000000013)\n",
      "(56, 0.04160000000000008)\n",
      "(57, 0.06020000000000003)\n",
      "(58, 0.0788000000000002)\n",
      "(59, 0.09740000000000015)\n",
      "(60, 0.1160000000000001)\n",
      "(61, 0.13460000000000005)\n",
      "(62, 0.1532)\n",
      "(63, 0.17180000000000017)\n",
      "(64, 0.19040000000000012)\n",
      "(65, 0.20900000000000007)\n",
      "(66, 0.22760000000000002)\n",
      "(67, 0.24619999999999997)\n",
      "(68, 0.26480000000000015)\n",
      "(69, 0.2834000000000001)\n",
      "(70, 0.30200000000000027)\n",
      "(71, 0.3206)\n",
      "(72, 0.33920000000000017)\n",
      "(73, 0.3578000000000001)\n",
      "(74, 0.37640000000000007)\n",
      "(75, 0.395)\n",
      "(76, 0.4136000000000002)\n",
      "(77, 0.4321999999999999)\n",
      "(78, 0.4508000000000001)\n",
      "(79, 0.46940000000000004)\n",
      "(80, 0.4880000000000002)\n",
      "(81, 0.5065999999999999)\n",
      "(82, 0.5252000000000001)\n",
      "(83, 0.5438000000000001)\n",
      "(84, 0.5624)\n",
      "(85, 0.581)\n",
      "(86, 0.5996000000000001)\n",
      "(87, 0.6182000000000003)\n",
      "(88, 0.6368)\n",
      "(89, 0.6554000000000002)\n",
      "(90, 0.6740000000000002)\n",
      "(91, 0.6926000000000001)\n",
      "(92, 0.7112)\n",
      "(93, 0.7298000000000002)\n",
      "(94, 0.7484)\n",
      "(95, 0.7670000000000001)\n",
      "(96, 0.7856000000000001)\n",
      "(97, 0.8042000000000002)\n",
      "(98, 0.8228)\n",
      "(99, 0.8414000000000001)\n"
     ]
    }
   ],
   "source": [
    "NUM_ROTATIONS = 100\n",
    "last_ik_seed = robot.current_state\n",
    "for i in range(NUM_ROTATIONS):\n",
    "    # Compute each putter angle between [-1, 0.86[ rad\n",
    "    angle = -1 + i*1.86/NUM_ROTATIONS\n",
    "    rotation = tf.transformations.quaternion_about_axis(angle, (0, 0, 1))\n",
    "    position = quat_rotate(rotation, [-DISTANCE_TO_CENTRE, 0, 0])\n",
    "    centre_T_putter = [position, rotation]\n",
    "    world_P_putter = multiply_transform(world_P_centre, centre_T_putter)\n",
    "    tfb.sendTransform(world_P_putter[0], world_P_putter[1], rospy.Time.now(), \"putter2\", \"world\")\n",
    "    \n",
    "    # Get end effector pose for each angle\n",
    "    world_P_gripper = multiply_transform(world_P_putter, putter_T_gripper)\n",
    "    tfb.sendTransform(world_P_gripper[0], world_P_gripper[1], rospy.Time.now(), \"gripper\", \"world\")\n",
    "    ps_eef = list_to_pose_stamped(world_P_gripper, frame_id=\"world\")\n",
    "    \n",
    "    # Get IK for the init pose\n",
    "    # /!!!!\\ The seed is the current pose\n",
    "    req = GetPositionIKRequest()\n",
    "    req.ik_request.group_name = \"manipulator\"\n",
    "    req.ik_request.ik_link_name = \"iiwa_link_ee\"\n",
    "    req.ik_request.pose_stamped = ps_eef\n",
    "    req.ik_request.robot_state = last_ik_seed\n",
    "    result = ik(req)\n",
    "    if result.error_code.val == -31:\n",
    "        print(\"No IK solution for\", i, angle)\n",
    "    else:\n",
    "        print(i, angle)\n",
    "        last_ik_seed = result.solution\n",
    "        traj = trapezoidal_speed_trajectory(result.solution, last_ik_seed, 1, 1)\n",
    "        robot.display(traj)\n",
    "    rospy.sleep(0.5)\n",
    "    \n",
    "    "
   ]
  },
  {
   "cell_type": "code",
   "execution_count": 153,
   "metadata": {},
   "outputs": [
    {
     "data": {
      "text/plain": [
       "moveit_msgs.msg._RobotState.RobotState"
      ]
     },
     "execution_count": 153,
     "metadata": {},
     "output_type": "execute_result"
    }
   ],
   "source": []
  },
  {
   "cell_type": "code",
   "execution_count": null,
   "metadata": {},
   "outputs": [],
   "source": []
  }
 ],
 "metadata": {
  "kernelspec": {
   "display_name": "Python 2",
   "language": "python",
   "name": "python2"
  },
  "language_info": {
   "codemirror_mode": {
    "name": "ipython",
    "version": 2
   },
   "file_extension": ".py",
   "mimetype": "text/x-python",
   "name": "python",
   "nbconvert_exporter": "python",
   "pygments_lexer": "ipython2",
   "version": "2.7.15rc1"
  }
 },
 "nbformat": 4,
 "nbformat_minor": 2
}
