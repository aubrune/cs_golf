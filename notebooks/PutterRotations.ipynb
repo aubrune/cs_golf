{
 "cells": [
  {
   "cell_type": "code",
   "execution_count": null,
   "metadata": {},
   "outputs": [],
   "source": [
    "import rospy\n",
    "import tf\n",
    "import json\n",
    "from moveit_msgs.srv import GetPositionIK, GetPositionIKRequest\n",
    "from geometry_msgs.msg import PoseStamped\n",
    "from cs_golf.robot import Robot\n",
    "from cs_golf.trajectories import trapezoidal_speed_trajectory\n",
    "from copy import deepcopy\n",
    "from cs_golf.transformations import quat_rotate, multiply_transform, inverse_transform, list_to_pose_stamped\n",
    "from moveit_msgs.msg import RobotTrajectory\n",
    "from trajectory_msgs.msg import JointTrajectoryPoint"
   ]
  },
  {
   "cell_type": "code",
   "execution_count": null,
   "metadata": {},
   "outputs": [],
   "source": [
    "rospy.init_node(\"putter_rotations\")"
   ]
  },
  {
   "cell_type": "code",
   "execution_count": null,
   "metadata": {},
   "outputs": [],
   "source": [
    "tfl = tf.TransformListener()"
   ]
  },
  {
   "cell_type": "code",
   "execution_count": null,
   "metadata": {},
   "outputs": [],
   "source": [
    "tfb = tf.TransformBroadcaster()"
   ]
  },
  {
   "cell_type": "code",
   "execution_count": null,
   "metadata": {},
   "outputs": [],
   "source": [
    "# rosrun tf static_transform_publisher -0.385 -0.396 0.02 -0.604 -0.405 -0.601 0.331 iiwa_link_ee putter 50\n",
    "# roslaunch iiwa_moveit demo.launch driver:=true"
   ]
  },
  {
   "cell_type": "code",
   "execution_count": 35,
   "metadata": {},
   "outputs": [],
   "source": [
    "DISTANCE_TO_CENTRE = 0.12    # Run-up\n",
    "TRAJECTORY_RANGE = 0.15      # In-line trajectory distance\n",
    "HEIGHT_ANGLE_SHOULDER = 0.75 \n",
    "LAST_TRACE_DISTANCE = 0.1    # Deceleration straight line"
   ]
  },
  {
   "cell_type": "code",
   "execution_count": 36,
   "metadata": {},
   "outputs": [],
   "source": [
    "world_P_centre = [[0.0 + DISTANCE_TO_CENTRE, -0.55, 0.03], [0, 0, 0, 1]]"
   ]
  },
  {
   "cell_type": "code",
   "execution_count": 37,
   "metadata": {},
   "outputs": [],
   "source": [
    "gripper_T_putter = [[-0.385, -0.396, 0.02], [-0.604, -0.405, -0.601, 0.331]]\n",
    "putter_T_gripper = inverse_transform(gripper_T_putter)"
   ]
  },
  {
   "cell_type": "code",
   "execution_count": 38,
   "metadata": {},
   "outputs": [],
   "source": [
    "ik = rospy.ServiceProxy(\"/iiwa/compute_ik\", GetPositionIK)"
   ]
  },
  {
   "cell_type": "code",
   "execution_count": 39,
   "metadata": {},
   "outputs": [],
   "source": [
    "robot = Robot()"
   ]
  },
  {
   "cell_type": "code",
   "execution_count": 45,
   "metadata": {
    "scrolled": true
   },
   "outputs": [],
   "source": [
    "NUM_ROTATIONS = 100\n",
    "NUM_POINTS_IN_TRAJ = 20\n",
    "\n",
    "# Seed is poses[\"init\"]\n",
    "last_ik_seed_angle = robot.current_state\n",
    "last_ik_seed_angle.joint_state.position = [-1.5845235972707337, 0.18173555759237864, 0.002154463990176006, -1.8228412945521233, 1.5210518225011864, 1.5430014337672806, 0.04309023940735948]\n",
    "\n",
    "rospy.sleep(3)\n",
    "trajectories = []\n",
    "for rot in range(NUM_ROTATIONS):\n",
    "    # Compute each putter angle between [0, 0.7[ rad\n",
    "    angle = 0 + rot*0.6/NUM_ROTATIONS\n",
    "    rotation = tf.transformations.quaternion_about_axis(angle, (0, 0, 1))\n",
    "    trajectory = {\"angle\": angle, \"points\": []}\n",
    "    \n",
    "    world_P_centre_angled = [world_P_centre[0], rotation]\n",
    "    #tfb.sendTransform(world_P_centre_angled[0], world_P_centre_angled[1], rospy.Time.now(), \"centre_rot\", \"world\")\n",
    "    \n",
    "    world_P_shoulder = deepcopy(world_P_centre_angled)\n",
    "    world_P_shoulder[0][2] += HEIGHT_ANGLE_SHOULDER\n",
    "    \n",
    "    # rotation movement of pi/4 (= 70/100)\n",
    "    last_ik_seed = last_ik_seed_angle\n",
    "    CIRCLE_RANGE = 80\n",
    "    for rot2 in range(CIRCLE_RANGE):\n",
    "        # Publish \"shoulder\" in this loop so that it's always available\n",
    "        tfb.sendTransform(world_P_shoulder[0], world_P_shoulder[1], rospy.Time.now(), \"shoulder\", \"world\")\n",
    "        angle2 = rot2 / 100. + 0.002*CIRCLE_RANGE\n",
    "        reverse_angle2 = 0.7 - angle2\n",
    "        rotation2 = tf.transformations.quaternion_about_axis(reverse_angle2, (0, 1, 0))\n",
    "        shoulder_T_putter_rot = quat_rotate(rotation2, [0, 0, -HEIGHT_ANGLE_SHOULDER])\n",
    "        shoulder_T_putter = [shoulder_T_putter_rot, rotation2]\n",
    "        tfb.sendTransform(shoulder_T_putter[0], shoulder_T_putter[1], rospy.Time.now(), \"putter2\", \"shoulder\")\n",
    "        #rospy.sleep(0.01)\n",
    "\n",
    "        # Get end effector pose for each angle\n",
    "        shoulder_P_gripper = multiply_transform(shoulder_T_putter, putter_T_gripper)\n",
    "        world_P_gripper = multiply_transform(world_P_shoulder, shoulder_P_gripper)\n",
    "\n",
    "        tfb.sendTransform(world_P_gripper[0], world_P_gripper[1], rospy.Time.now(), \"gripper\", \"world\")\n",
    "        ps_eef = list_to_pose_stamped(world_P_gripper, frame_id=\"world\")\n",
    "        \n",
    "        # Get IK for the init pose       \n",
    "        req = GetPositionIKRequest()\n",
    "        req.ik_request.group_name = \"manipulator\"\n",
    "        req.ik_request.ik_link_name = \"iiwa_link_ee\"\n",
    "        req.ik_request.pose_stamped = ps_eef\n",
    "        req.ik_request.robot_state = last_ik_seed\n",
    "        result = ik(req)\n",
    "        if result.error_code.val == -31:\n",
    "            print(\"No IK solution for\", rot, \"angle\", angle, \"point\", point, \"distance\", distance_to_point)\n",
    "            break\n",
    "        else:\n",
    "            #print(i, angle, j)\n",
    "            last_ik_seed = result.solution\n",
    "            #rospy.sleep(0.02)\n",
    "            trajectory[\"points\"].append(result.solution.joint_state.position)\n",
    "            if rot2 == 0:\n",
    "                last_ik_seed_angle = last_ik_seed\n",
    "    trajectories.append(trajectory)"
   ]
  },
  {
   "cell_type": "code",
   "execution_count": null,
   "metadata": {},
   "outputs": [],
   "source": [
    "   \n",
    "    continue\n",
    "    for point in range(NUM_POINTS_IN_TRAJ):\n",
    "        distance_to_point = float(point)*TRAJECTORY_RANGE/NUM_POINTS_IN_TRAJ\n",
    "        position = quat_rotate(rotation, [-DISTANCE_TO_CENTRE + distance_to_point, 0, 0])\n",
    "        centre_T_putter = [position, rotation]\n",
    "\n",
    "        tfb.sendTransform(world_P_putter[0], world_P_putter[1], rospy.Time.now(), \"putter2\", \"world\")\n",
    "\n",
    "        # Get end effector pose for each angle\n",
    "        world_P_gripper = multiply_transform(world_P_putter, putter_T_gripper)\n",
    "        tfb.sendTransform(world_P_gripper[0], world_P_gripper[1], rospy.Time.now(), \"gripper\", \"world\")\n",
    "        ps_eef = list_to_pose_stamped(world_P_gripper, frame_id=\"world\")\n",
    "        continue\n",
    "\n",
    "        # Get IK for the init pose\n",
    "        # /!!!!\\ The seed is the current pose\n",
    "        req = GetPositionIKRequest()\n",
    "        req.ik_request.group_name = \"manipulator\"\n",
    "        req.ik_request.ik_link_name = \"iiwa_link_ee\"\n",
    "        req.ik_request.pose_stamped = ps_eef\n",
    "        req.ik_request.robot_state = last_ik_seed_point\n",
    "        result = ik(req)\n",
    "        if result.error_code.val == -31:\n",
    "            print(\"No IK solution for\", rot, \"angle\", angle, \"point\", point, \"distance\", distance_to_point)\n",
    "        else:\n",
    "            #print(i, angle, j)\n",
    "            last_ik_seed_point = result.solution\n",
    "            traj = trapezoidal_speed_trajectory(result.solution, last_ik_seed_point, 1, 1)\n",
    "            #robot.display(traj)\n",
    "            #rospy.sleep(0.02)\n",
    "            trajectory[\"points\"].append(result.solution.joint_state.position)\n",
    "            if point == 0:\n",
    "                last_ik_seed = last_ik_seed_point\n",
    "        #ospy.sleep(0.05)\n",
    "    continue\n",
    "    trajectories.append(trajectory)"
   ]
  },
  {
   "cell_type": "code",
   "execution_count": 43,
   "metadata": {},
   "outputs": [],
   "source": [
    "for t in trajectories:\n",
    "    rt = RobotTrajectory()\n",
    "    rt.joint_trajectory.joint_names = last_ik_seed.joint_state.name\n",
    "    for point in t[\"points\"]:\n",
    "        jtp = JointTrajectoryPoint()\n",
    "        jtp.positions = point\n",
    "        rt.joint_trajectory.points.append(jtp)\n",
    "    robot.display(rt)\n",
    "    rospy.sleep(0.5)"
   ]
  },
  {
   "cell_type": "code",
   "execution_count": null,
   "metadata": {},
   "outputs": [],
   "source": [
    "with open(\"../config/motions.json\", \"w\") as f:\n",
    "    json.dump({\"joints\": last_ik_seed.joint_state.name, \"trajectories\": trajectories}, f)"
   ]
  },
  {
   "cell_type": "code",
   "execution_count": 46,
   "metadata": {},
   "outputs": [
    {
     "data": {
      "text/plain": [
       "100"
      ]
     },
     "execution_count": 46,
     "metadata": {},
     "output_type": "execute_result"
    }
   ],
   "source": [
    "len(trajectories)"
   ]
  },
  {
   "cell_type": "code",
   "execution_count": null,
   "metadata": {},
   "outputs": [],
   "source": []
  }
 ],
 "metadata": {
  "kernelspec": {
   "display_name": "Python 2",
   "language": "python",
   "name": "python2"
  },
  "language_info": {
   "codemirror_mode": {
    "name": "ipython",
    "version": 2
   },
   "file_extension": ".py",
   "mimetype": "text/x-python",
   "name": "python",
   "nbconvert_exporter": "python",
   "pygments_lexer": "ipython2",
   "version": "2.7.15rc1"
  }
 },
 "nbformat": 4,
 "nbformat_minor": 2
}
