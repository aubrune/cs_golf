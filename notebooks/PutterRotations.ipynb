{
 "cells": [
  {
   "cell_type": "code",
   "execution_count": null,
   "metadata": {},
   "outputs": [],
   "source": [
    "import rospy\n",
    "import tf\n",
    "import json\n",
    "from moveit_msgs.srv import GetPositionIK, GetPositionIKRequest\n",
    "from geometry_msgs.msg import PoseStamped\n",
    "from cs_golf.robot import Robot\n",
    "from cs_golf.trajectories import trapezoidal_speed_trajectory\n",
    "from copy import deepcopy\n",
    "from cs_golf.transformations import quat_rotate, multiply_transform, inverse_transform, list_to_pose_stamped\n",
    "from moveit_msgs.msg import RobotTrajectory\n",
    "from trajectory_msgs.msg import JointTrajectoryPoint"
   ]
  },
  {
   "cell_type": "code",
   "execution_count": null,
   "metadata": {},
   "outputs": [],
   "source": [
    "rospy.init_node(\"putter_rotations\")"
   ]
  },
  {
   "cell_type": "code",
   "execution_count": null,
   "metadata": {},
   "outputs": [],
   "source": [
    "tfl = tf.TransformListener()"
   ]
  },
  {
   "cell_type": "code",
   "execution_count": null,
   "metadata": {},
   "outputs": [],
   "source": [
    "tfb = tf.TransformBroadcaster()"
   ]
  },
  {
   "cell_type": "code",
   "execution_count": null,
   "metadata": {},
   "outputs": [],
   "source": [
    "# rosrun tf static_transform_publisher -0.385 -0.396 0.02 -0.604 -0.405 -0.601 0.331 iiwa_link_ee putter 50\n",
    "# roslaunch iiwa_moveit demo.launch driver:=true"
   ]
  },
  {
   "cell_type": "code",
   "execution_count": null,
   "metadata": {},
   "outputs": [],
   "source": [
    "DISTANCE_TO_CENTRE = 0.12    # Run-up\n",
    "HEIGHT_ANGLE_SHOULDER = 0.75 \n",
    "NUM_JOINTS = 7"
   ]
  },
  {
   "cell_type": "code",
   "execution_count": null,
   "metadata": {},
   "outputs": [],
   "source": [
    "world_P_centre = [[0.0 + DISTANCE_TO_CENTRE, -0.55, 0.03], [0, 0, 0, 1]]"
   ]
  },
  {
   "cell_type": "code",
   "execution_count": null,
   "metadata": {},
   "outputs": [],
   "source": [
    "gripper_T_putter = [[-0.385, -0.396, 0.02], [-0.604, -0.405, -0.601, 0.331]]\n",
    "putter_T_gripper = inverse_transform(gripper_T_putter)"
   ]
  },
  {
   "cell_type": "code",
   "execution_count": null,
   "metadata": {},
   "outputs": [],
   "source": [
    "ik = rospy.ServiceProxy(\"/iiwa/compute_ik\", GetPositionIK)"
   ]
  },
  {
   "cell_type": "code",
   "execution_count": null,
   "metadata": {},
   "outputs": [],
   "source": [
    "robot = Robot()"
   ]
  },
  {
   "cell_type": "code",
   "execution_count": null,
   "metadata": {
    "scrolled": true
   },
   "outputs": [],
   "source": [
    "NUM_ROTATIONS = 100\n",
    "NUM_POINTS_IN_TRAJ = 20\n",
    "\n",
    "# Seed is poses[\"init\"]\n",
    "last_ik_seed_angle = robot.current_state\n",
    "last_ik_seed_angle.joint_state.position = [-0.11969436376084419, -0.494854232671294, -1.3905943305659678,\n",
    "                                           -1.764423531111349, 1.0661701451509533, 1.511239882188521, 0.3787167269893851]\n",
    "\n",
    "#rospy.sleep(3)\n",
    "trajectories = []\n",
    "diffs = []\n",
    "for rot in range(NUM_ROTATIONS):\n",
    "    # Compute each putter angle between [0, 0.7[ rad\n",
    "    angle = 0 + rot*0.55/NUM_ROTATIONS\n",
    "    rotation = tf.transformations.quaternion_about_axis(angle, (0, 0, 1))\n",
    "    trajectory = {\"angle\": angle, \"points\": []}\n",
    "    \n",
    "    world_P_centre_angled = [world_P_centre[0], rotation]\n",
    "    #tfb.sendTransform(world_P_centre_angled[0], world_P_centre_angled[1], rospy.Time.now(), \"centre_rot\", \"world\")\n",
    "    \n",
    "    world_P_shoulder = deepcopy(world_P_centre_angled)\n",
    "    world_P_shoulder[0][2] += HEIGHT_ANGLE_SHOULDER\n",
    "    \n",
    "    # rotation movement of pi/4 (= 70/100)\n",
    "    last_ik_seed = last_ik_seed_angle\n",
    "    CIRCLE_RANGE = 80\n",
    "    for rot2 in range(CIRCLE_RANGE):\n",
    "        # Publish \"shoulder\" in this loop so that it's always available\n",
    "        tfb.sendTransform(world_P_shoulder[0], world_P_shoulder[1], rospy.Time.now(), \"shoulder\", \"world\")\n",
    "        angle2 = rot2 / 100. + 0.002*CIRCLE_RANGE\n",
    "        reverse_angle2 = 0.7 - angle2\n",
    "        rotation2 = tf.transformations.quaternion_about_axis(reverse_angle2, (0, 1, 0))\n",
    "        shoulder_T_putter_rot = quat_rotate(rotation2, [0, 0, -HEIGHT_ANGLE_SHOULDER])\n",
    "        shoulder_T_putter = [shoulder_T_putter_rot, rotation2]\n",
    "        tfb.sendTransform(shoulder_T_putter[0], shoulder_T_putter[1], rospy.Time.now(), \"putter2\", \"shoulder\")\n",
    "        #rospy.sleep(0.01)\n",
    "\n",
    "        # Get end effector pose for each angle\n",
    "        shoulder_P_gripper = multiply_transform(shoulder_T_putter, putter_T_gripper)\n",
    "        world_P_gripper = multiply_transform(world_P_shoulder, shoulder_P_gripper)\n",
    "\n",
    "        tfb.sendTransform(world_P_gripper[0], world_P_gripper[1], rospy.Time.now(), \"gripper\", \"world\")\n",
    "        ps_eef = list_to_pose_stamped(world_P_gripper, frame_id=\"world\")\n",
    "        \n",
    "        # Get IK for the init pose       \n",
    "        ik_ok = False\n",
    "        for attempt in range(50):\n",
    "            req = GetPositionIKRequest()\n",
    "            req.ik_request.group_name = \"manipulator\"\n",
    "            req.ik_request.ik_link_name = \"iiwa_link_ee\"\n",
    "            req.ik_request.pose_stamped = ps_eef\n",
    "            req.ik_request.robot_state = last_ik_seed_angle\n",
    "            result = ik(req)\n",
    "            if result.error_code.val != -31:\n",
    "                if rot2 in [0, 1]:\n",
    "                    smoothed_positions = result.solution.joint_state.position\n",
    "                else:\n",
    "                    previous = trajectory['points'][-1]\n",
    "                    smoothed_positions = [0.8*v + 0.2*previous[i] for i, v in enumerate(result.solution.joint_state.position)]\n",
    "                diff = sum([abs(last_ik_seed.joint_state.position[i] - smoothed_positions[i]) for i in range(NUM_JOINTS)])\n",
    "                #print(\"Rotation\", rot, rot2, \"diff\", round(diff, 4))\n",
    "                if diff < 0.05 or rot2 == 0 and diff < 0.5 or rot == 0:\n",
    "                    if rot2 == 0:\n",
    "                        diffs.append(diff)\n",
    "                    ik_ok = True\n",
    "                    break\n",
    "                    #print(\"Acceleration of rotation\", rot, \"is too high\", diff, \"OK\" if rot2==0 else \"\")\n",
    "                    #if rot not in non_valid_accel:\n",
    "                    #    non_valid_accel[rot] = [diff]\n",
    "                    #else:\n",
    "                    #    non_valid_accel[rot].append(diff)\n",
    "        if ik_ok:\n",
    "            last_ik_seed = result.solution\n",
    "            last_ik_seed.joint_state.position = smoothed_positions\n",
    "            #rospy.sleep(0.02)\n",
    "            trajectory[\"points\"].append(result.solution.joint_state.position)\n",
    "            if rot2 == 0:\n",
    "                last_ik_seed_angle = last_ik_seed\n",
    "            #print([int(v*180/3.1459) for v in result.solution.joint_state.position])\n",
    "        else:\n",
    "            print(\"No IK solution for\", rot, \"angle\", angle, \"rot2\", rot2, \"diff\", diff)\n",
    "            print([int(v*180/3.1459) for v in result.solution.joint_state.position])\n",
    "            #raise RuntimeError()\n",
    "    trajectories.append(trajectory)"
   ]
  },
  {
   "cell_type": "code",
   "execution_count": null,
   "metadata": {},
   "outputs": [],
   "source": [
    "t = trajectories[71]\n",
    "rt = RobotTrajectory()\n",
    "rt.joint_trajectory.joint_names = last_ik_seed.joint_state.name\n",
    "for point in t[\"points\"]:\n",
    "    jtp = JointTrajectoryPoint()\n",
    "    jtp.positions = point\n",
    "    rt.joint_trajectory.points.append(jtp)\n",
    "robot.display(rt)\n",
    "rospy.sleep(0.5)"
   ]
  },
  {
   "cell_type": "code",
   "execution_count": null,
   "metadata": {},
   "outputs": [],
   "source": [
    "with open(\"../config/motions.json\", \"w\") as f:\n",
    "    json.dump({\"joints\": last_ik_seed.joint_state.name, \"trajectories\": trajectories}, f)"
   ]
  },
  {
   "cell_type": "code",
   "execution_count": null,
   "metadata": {},
   "outputs": [],
   "source": [
    "max(diffs)"
   ]
  },
  {
   "cell_type": "code",
   "execution_count": null,
   "metadata": {},
   "outputs": [],
   "source": [
    "min(diffs)"
   ]
  },
  {
   "cell_type": "code",
   "execution_count": null,
   "metadata": {},
   "outputs": [],
   "source": [
    "diffs"
   ]
  },
  {
   "cell_type": "code",
   "execution_count": null,
   "metadata": {},
   "outputs": [],
   "source": [
    "len(diffs)"
   ]
  },
  {
   "cell_type": "code",
   "execution_count": null,
   "metadata": {},
   "outputs": [],
   "source": []
  }
 ],
 "metadata": {
  "kernelspec": {
   "display_name": "Python 2",
   "language": "python",
   "name": "python2"
  },
  "language_info": {
   "codemirror_mode": {
    "name": "ipython",
    "version": 2
   },
   "file_extension": ".py",
   "mimetype": "text/x-python",
   "name": "python",
   "nbconvert_exporter": "python",
   "pygments_lexer": "ipython2",
   "version": "2.7.15rc1"
  }
 },
 "nbformat": 4,
 "nbformat_minor": 2
}
