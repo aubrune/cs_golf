{
 "cells": [
  {
   "cell_type": "code",
   "execution_count": 214,
   "metadata": {},
   "outputs": [],
   "source": [
    "import rospy\n",
    "import tf\n",
    "import json\n",
    "from moveit_msgs.srv import GetPositionIK, GetPositionIKRequest\n",
    "from geometry_msgs.msg import PoseStamped\n",
    "from cs_golf.robot import Robot\n",
    "from cs_golf.trajectories import trapezoidal_speed_trajectory\n",
    "from copy import deepcopy\n",
    "from cs_golf.transformations import quat_rotate, multiply_transform, inverse_transform, list_to_pose_stamped\n",
    "from moveit_msgs.msg import RobotTrajectory\n",
    "from trajectory_msgs.msg import JointTrajectoryPoint"
   ]
  },
  {
   "cell_type": "code",
   "execution_count": 5,
   "metadata": {},
   "outputs": [],
   "source": [
    "rospy.init_node(\"putter_rotations\")"
   ]
  },
  {
   "cell_type": "code",
   "execution_count": 73,
   "metadata": {},
   "outputs": [],
   "source": [
    "robot = Robot()"
   ]
  },
  {
   "cell_type": "code",
   "execution_count": 6,
   "metadata": {},
   "outputs": [],
   "source": [
    "tfl = tf.TransformListener()"
   ]
  },
  {
   "cell_type": "code",
   "execution_count": 13,
   "metadata": {},
   "outputs": [],
   "source": [
    "tfb = tf.TransformBroadcaster()"
   ]
  },
  {
   "cell_type": "code",
   "execution_count": 12,
   "metadata": {},
   "outputs": [],
   "source": [
    "# rosrun tf static_transform_publisher -0.385 -0.396 0.02 -0.604 -0.405 -0.601 0.331 iiwa_link_ee putter 50"
   ]
  },
  {
   "cell_type": "code",
   "execution_count": 84,
   "metadata": {},
   "outputs": [
    {
     "data": {
      "text/plain": [
       "([0.12532283301822617, -0.3851893791795562, 0.7587413204452541],\n",
       " [0.6154466337612458,\n",
       "  0.40159065654929116,\n",
       "  0.6013661089366799,\n",
       "  0.31354296130931947])"
      ]
     },
     "execution_count": 84,
     "metadata": {},
     "output_type": "execute_result"
    }
   ],
   "source": [
    "tfl.lookupTransform(\"world\", \"iiwa_link_ee\", rospy.Time(0))"
   ]
  },
  {
   "cell_type": "code",
   "execution_count": 85,
   "metadata": {},
   "outputs": [],
   "source": [
    "req = GetPositionIKRequest()\n",
    "req.ik_request.group_name = \"manipulator\"\n",
    "req.ik_request.ik_link_name = \"iiwa_link_ee\""
   ]
  },
  {
   "cell_type": "code",
   "execution_count": 105,
   "metadata": {},
   "outputs": [],
   "source": [
    "p = PoseStamped()\n",
    "p.header.frame_id = \"world\"\n",
    "p.pose.position.x = 0.12\n",
    "p.pose.position.y = -0.38\n",
    "p.pose.position.z = 0.9\n",
    "p.pose.orientation.x = 0.6154466337612458\n",
    "p.pose.orientation.y = 0.40159065654929116\n",
    "p.pose.orientation.z = 0.6013661089366799\n",
    "p.pose.orientation.w = 0.31354296130931947"
   ]
  },
  {
   "cell_type": "code",
   "execution_count": 106,
   "metadata": {},
   "outputs": [],
   "source": [
    "req.ik_request.pose_stamped = p\n",
    "req.ik_request.robot_state = robot.current_state"
   ]
  },
  {
   "cell_type": "code",
   "execution_count": 107,
   "metadata": {},
   "outputs": [
    {
     "data": {
      "text/plain": [
       "ik_request: \n",
       "  group_name: \"manipulator\"\n",
       "  robot_state: \n",
       "    joint_state: \n",
       "      header: \n",
       "        seq: 0\n",
       "        stamp: \n",
       "          secs: 0\n",
       "          nsecs:         0\n",
       "        frame_id: \"world\"\n",
       "      name: [iiwa_joint_1, iiwa_joint_2, iiwa_joint_3, iiwa_joint_4, iiwa_joint_5, iiwa_joint_6,\n",
       "  iiwa_joint_7]\n",
       "      position: [-1.5531087493483133, -0.0038530481978972498, -0.01682261604940589, -1.502484686923476, 1.4973296726054919, 1.6726883641467405, 0.576573583704487]\n",
       "      velocity: []\n",
       "      effort: []\n",
       "    multi_dof_joint_state: \n",
       "      header: \n",
       "        seq: 0\n",
       "        stamp: \n",
       "          secs: 0\n",
       "          nsecs:         0\n",
       "        frame_id: \"world\"\n",
       "      joint_names: []\n",
       "      transforms: []\n",
       "      twist: []\n",
       "      wrench: []\n",
       "    attached_collision_objects: []\n",
       "    is_diff: False\n",
       "  constraints: \n",
       "    name: ''\n",
       "    joint_constraints: []\n",
       "    position_constraints: []\n",
       "    orientation_constraints: []\n",
       "    visibility_constraints: []\n",
       "  avoid_collisions: False\n",
       "  ik_link_name: \"iiwa_link_ee\"\n",
       "  pose_stamped: \n",
       "    header: \n",
       "      seq: 0\n",
       "      stamp: \n",
       "        secs: 0\n",
       "        nsecs:         0\n",
       "      frame_id: \"world\"\n",
       "    pose: \n",
       "      position: \n",
       "        x: 0.12\n",
       "        y: -0.38\n",
       "        z: 0.9\n",
       "      orientation: \n",
       "        x: 0.615446633761\n",
       "        y: 0.401590656549\n",
       "        z: 0.601366108937\n",
       "        w: 0.313542961309\n",
       "  ik_link_names: []\n",
       "  pose_stamped_vector: []\n",
       "  timeout: \n",
       "    secs: 0\n",
       "    nsecs:         0\n",
       "  attempts: 0"
      ]
     },
     "execution_count": 107,
     "metadata": {},
     "output_type": "execute_result"
    }
   ],
   "source": [
    "req"
   ]
  },
  {
   "cell_type": "code",
   "execution_count": 108,
   "metadata": {},
   "outputs": [],
   "source": [
    "ik = rospy.ServiceProxy(\"/iiwa/compute_ik\", GetPositionIK)"
   ]
  },
  {
   "cell_type": "code",
   "execution_count": 109,
   "metadata": {},
   "outputs": [],
   "source": [
    "result = ik(req)"
   ]
  },
  {
   "cell_type": "code",
   "execution_count": 110,
   "metadata": {},
   "outputs": [],
   "source": [
    "if result.error_code.val == -31:\n",
    "    print(\"No IK solution\")"
   ]
  },
  {
   "cell_type": "code",
   "execution_count": 111,
   "metadata": {},
   "outputs": [],
   "source": [
    "traj = trapezoidal_speed_trajectory(result.solution, robot.current_state, 1, 1)"
   ]
  },
  {
   "cell_type": "code",
   "execution_count": 112,
   "metadata": {},
   "outputs": [],
   "source": [
    "robot.display(traj)"
   ]
  },
  {
   "cell_type": "code",
   "execution_count": 203,
   "metadata": {},
   "outputs": [],
   "source": [
    "DISTANCE_TO_CENTRE = 0.075   # Run-up\n",
    "TRAJECTORY_RANGE = 0.2       # In-line trajectory distance"
   ]
  },
  {
   "cell_type": "code",
   "execution_count": 135,
   "metadata": {},
   "outputs": [],
   "source": [
    "base_putter = [[0.111, -0.603, 0.029],  [0,0,0,1]]\n",
    "world_P_centre = deepcopy(base_putter)\n",
    "world_P_centre[0][0] += DISTANCE_TO_CENTRE"
   ]
  },
  {
   "cell_type": "code",
   "execution_count": 136,
   "metadata": {},
   "outputs": [
    {
     "data": {
      "text/plain": [
       "[[0.186, -0.603, 0.029], [0, 0, 0, 1]]"
      ]
     },
     "execution_count": 136,
     "metadata": {},
     "output_type": "execute_result"
    }
   ],
   "source": [
    "world_P_centre"
   ]
  },
  {
   "cell_type": "code",
   "execution_count": 149,
   "metadata": {},
   "outputs": [],
   "source": [
    "gripper_T_putter = [[-0.385, -0.396, 0.02], [-0.604, -0.405, -0.601, 0.331]]\n",
    "putter_T_gripper = inverse_transform(gripper_T_putter)"
   ]
  },
  {
   "cell_type": "code",
   "execution_count": 141,
   "metadata": {},
   "outputs": [],
   "source": [
    "rotation = tf.transformations.quaternion_about_axis(0.5, (0, 0, 1))\n",
    "position = quat_rotate(rotation, [-DISTANCE_TO_CENTRE, 0, 0])\n",
    "centre_T_putter = [position, rotation]"
   ]
  },
  {
   "cell_type": "code",
   "execution_count": 142,
   "metadata": {},
   "outputs": [],
   "source": [
    "world_P_centre = ball_rot"
   ]
  },
  {
   "cell_type": "code",
   "execution_count": 144,
   "metadata": {},
   "outputs": [],
   "source": [
    "world_P_putter = multiply_transform(world_P_centre, centre_T_putter)"
   ]
  },
  {
   "cell_type": "code",
   "execution_count": 145,
   "metadata": {},
   "outputs": [],
   "source": [
    "tfb.sendTransform(world_P_putter[0], world_P_putter[1], rospy.Time.now(), \"putter2\", \"world\")"
   ]
  },
  {
   "cell_type": "code",
   "execution_count": 206,
   "metadata": {
    "scrolled": true
   },
   "outputs": [],
   "source": [
    "NUM_ROTATIONS = 100\n",
    "NUM_POINTS_IN_TRAJ = 20\n",
    "\n",
    "# Seed is poses[\"init\"]\n",
    "last_ik_seed = robot.current_state\n",
    "last_ik_seed.joint_state.position = [-1.601099757776293, 0.23286978848422024, -0.03592373282101929,\n",
    "                                     -1.7601794976359955, 1.456285140355729, 1.6949230560747754, 0.05387100838806534]\n",
    "\n",
    "trajectories = []\n",
    "for rot in range(NUM_ROTATIONS):\n",
    "    # Compute each putter angle between [-1, 0.86[ rad\n",
    "    angle = -1 + rot*1.85/NUM_ROTATIONS\n",
    "    rotation = tf.transformations.quaternion_about_axis(angle, (0, 0, 1))\n",
    "    trajectory = {\"angle\": angle, \"points\": []}\n",
    "    last_ik_seed_point = last_ik_seed\n",
    "    for point in range(NUM_POINTS_IN_TRAJ):\n",
    "        distance_to_point = float(point)*TRAJECTORY_RANGE/NUM_POINTS_IN_TRAJ\n",
    "        position = quat_rotate(rotation, [-DISTANCE_TO_CENTRE + distance_to_point, 0, 0])\n",
    "        centre_T_putter = [position, rotation]\n",
    "        world_P_putter = multiply_transform(world_P_centre, centre_T_putter)\n",
    "        tfb.sendTransform(world_P_putter[0], world_P_putter[1], rospy.Time.now(), \"putter2\", \"world\")\n",
    "\n",
    "        # Get end effector pose for each angle\n",
    "        world_P_gripper = multiply_transform(world_P_putter, putter_T_gripper)\n",
    "        tfb.sendTransform(world_P_gripper[0], world_P_gripper[1], rospy.Time.now(), \"gripper\", \"world\")\n",
    "        ps_eef = list_to_pose_stamped(world_P_gripper, frame_id=\"world\")\n",
    "\n",
    "        # Get IK for the init pose\n",
    "        # /!!!!\\ The seed is the current pose\n",
    "        req = GetPositionIKRequest()\n",
    "        req.ik_request.group_name = \"manipulator\"\n",
    "        req.ik_request.ik_link_name = \"iiwa_link_ee\"\n",
    "        req.ik_request.pose_stamped = ps_eef\n",
    "        req.ik_request.robot_state = last_ik_seed_point\n",
    "        result = ik(req)\n",
    "        if result.error_code.val == -31:\n",
    "            print(\"No IK solution for\", rot, \"angle\", angle, \"point\", point, \"distance\", distance_to_point)\n",
    "        else:\n",
    "            #print(i, angle, j)\n",
    "            last_ik_seed_point = result.solution\n",
    "            traj = trapezoidal_speed_trajectory(result.solution, last_ik_seed_point, 1, 1)\n",
    "            #robot.display(traj)\n",
    "            #rospy.sleep(0.5)\n",
    "            trajectory[\"points\"].append(result.solution.joint_state.position)\n",
    "            if point == 0:\n",
    "                last_ik_seed = last_ik_seed_point\n",
    "        #rospy.sleep(0.05)\n",
    "    trajectories.append(trajectory)"
   ]
  },
  {
   "cell_type": "code",
   "execution_count": 212,
   "metadata": {},
   "outputs": [],
   "source": [
    "for t in trajectories:\n",
    "    rt = RobotTrajectory()\n",
    "    rt.joint_trajectory.joint_names = last_ik_seed.joint_state.name\n",
    "    for point in t[\"points\"]:\n",
    "        jtp = JointTrajectoryPoint()\n",
    "        jtp.positions = point\n",
    "        rt.joint_trajectory.points.append(jtp)\n",
    "    robot.display(rt)\n",
    "    rospy.sleep(0.5)"
   ]
  },
  {
   "cell_type": "code",
   "execution_count": 215,
   "metadata": {},
   "outputs": [],
   "source": [
    "with open(\"../config/motions.json\", \"w\") as f:\n",
    "    json.dump({\"joints\": last_ik_seed.joint_state.name, \"trajectories\": trajectories}, f)"
   ]
  },
  {
   "cell_type": "code",
   "execution_count": null,
   "metadata": {},
   "outputs": [],
   "source": []
  }
 ],
 "metadata": {
  "kernelspec": {
   "display_name": "Python 2",
   "language": "python",
   "name": "python2"
  },
  "language_info": {
   "codemirror_mode": {
    "name": "ipython",
    "version": 2
   },
   "file_extension": ".py",
   "mimetype": "text/x-python",
   "name": "python",
   "nbconvert_exporter": "python",
   "pygments_lexer": "ipython2",
   "version": "2.7.15rc1"
  }
 },
 "nbformat": 4,
 "nbformat_minor": 2
}
