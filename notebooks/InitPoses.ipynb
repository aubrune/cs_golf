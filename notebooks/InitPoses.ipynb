{
 "cells": [
  {
   "cell_type": "code",
   "execution_count": 1,
   "metadata": {},
   "outputs": [],
   "source": [
    "import rospy\n",
    "import json\n",
    "from cs_golf.robot import Robot\n",
    "from cs_golf.persistence import statetodict"
   ]
  },
  {
   "cell_type": "code",
   "execution_count": 2,
   "metadata": {},
   "outputs": [],
   "source": [
    "rospy.init_node(\"init_poses\")"
   ]
  },
  {
   "cell_type": "code",
   "execution_count": 3,
   "metadata": {},
   "outputs": [],
   "source": [
    "r = Robot()"
   ]
  },
  {
   "cell_type": "code",
   "execution_count": 4,
   "metadata": {},
   "outputs": [],
   "source": [
    "poses = {\"init\" : statetodict(r.commander.get_current_state())}"
   ]
  },
  {
   "cell_type": "code",
   "execution_count": 5,
   "metadata": {},
   "outputs": [],
   "source": [
    "# Overwrite initial pose\n",
    "with open(\"../config/poses.json\", \"w\") as f:\n",
    "    json.dump(poses, f)"
   ]
  },
  {
   "cell_type": "code",
   "execution_count": 6,
   "metadata": {},
   "outputs": [],
   "source": [
    "with open(\"../config/poses.json\") as f:\n",
    "    d = json.load(f)"
   ]
  },
  {
   "cell_type": "code",
   "execution_count": 7,
   "metadata": {},
   "outputs": [
    {
     "data": {
      "text/plain": [
       "{u'init': {u'name': [u'iiwa_joint_1',\n",
       "   u'iiwa_joint_2',\n",
       "   u'iiwa_joint_3',\n",
       "   u'iiwa_joint_4',\n",
       "   u'iiwa_joint_5',\n",
       "   u'iiwa_joint_6',\n",
       "   u'iiwa_joint_7'],\n",
       "  u'position': [-1.6370073524780917,\n",
       "   -1.5198590389326299,\n",
       "   -0.17250675013247818,\n",
       "   -1.400962594692703,\n",
       "   0.033200015618613854,\n",
       "   -1.4379932864244909,\n",
       "   -2.9975501977813357]}}"
      ]
     },
     "execution_count": 7,
     "metadata": {},
     "output_type": "execute_result"
    }
   ],
   "source": [
    "d"
   ]
  },
  {
   "cell_type": "code",
   "execution_count": null,
   "metadata": {},
   "outputs": [],
   "source": []
  }
 ],
 "metadata": {
  "kernelspec": {
   "display_name": "Python 2",
   "language": "python",
   "name": "python2"
  },
  "language_info": {
   "codemirror_mode": {
    "name": "ipython",
    "version": 2
   },
   "file_extension": ".py",
   "mimetype": "text/x-python",
   "name": "python",
   "nbconvert_exporter": "python",
   "pygments_lexer": "ipython2",
   "version": "2.7.15rc1"
  }
 },
 "nbformat": 4,
 "nbformat_minor": 2
}
