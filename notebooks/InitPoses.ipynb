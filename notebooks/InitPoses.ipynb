{
 "cells": [
  {
   "cell_type": "code",
   "execution_count": 1,
   "metadata": {},
   "outputs": [],
   "source": [
    "import rospy\n",
    "import json\n",
    "from cs_golf.robot import Robot\n",
    "from cs_golf.persistence import statetodict"
   ]
  },
  {
   "cell_type": "code",
   "execution_count": 2,
   "metadata": {},
   "outputs": [],
   "source": [
    "rospy.init_node(\"init_poses\")"
   ]
  },
  {
   "cell_type": "code",
   "execution_count": 3,
   "metadata": {},
   "outputs": [],
   "source": [
    "r = Robot()"
   ]
  },
  {
   "cell_type": "code",
   "execution_count": 4,
   "metadata": {},
   "outputs": [],
   "source": [
    "poses = {\"goal\" : statetodict(r.commander.get_current_state())} # At the end of the iteration\n",
    "#poses = {\"init\" : statetodict(r.commander.get_current_state())} # Before the iteration"
   ]
  },
  {
   "cell_type": "code",
   "execution_count": 13,
   "metadata": {},
   "outputs": [],
   "source": [
    "# Open other poses\n",
    "with open(\"../config/poses.json\") as f:\n",
    "    other_poses = json.load(f)\n",
    "\n",
    "# Overwrite initial pose\n",
    "other_poses.update(poses)\n",
    "with open(\"../config/poses.json\", \"w\") as f:\n",
    "    json.dump(other_poses, f, indent=4)"
   ]
  },
  {
   "cell_type": "code",
   "execution_count": 14,
   "metadata": {},
   "outputs": [],
   "source": [
    "with open(\"../config/poses.json\") as f:\n",
    "    d = json.load(f)"
   ]
  },
  {
   "cell_type": "code",
   "execution_count": 15,
   "metadata": {},
   "outputs": [
    {
     "data": {
      "text/plain": [
       "{u'goal': {u'name': [u'iiwa_joint_1',\n",
       "   u'iiwa_joint_2',\n",
       "   u'iiwa_joint_3',\n",
       "   u'iiwa_joint_4',\n",
       "   u'iiwa_joint_5',\n",
       "   u'iiwa_joint_6',\n",
       "   u'iiwa_joint_7'],\n",
       "  u'position': [-2.2706334865811275,\n",
       "   -1.4328648256031151,\n",
       "   -0.4719175569243763,\n",
       "   -1.5268977079395212,\n",
       "   0.6502234712424633,\n",
       "   -1.3264826792761912,\n",
       "   -2.9964036521785484]},\n",
       " u'init': {u'name': [u'iiwa_joint_1',\n",
       "   u'iiwa_joint_2',\n",
       "   u'iiwa_joint_3',\n",
       "   u'iiwa_joint_4',\n",
       "   u'iiwa_joint_5',\n",
       "   u'iiwa_joint_6',\n",
       "   u'iiwa_joint_7'],\n",
       "  u'position': [-1.6370073524780917,\n",
       "   -1.5198590389326299,\n",
       "   -0.17250675013247818,\n",
       "   -1.400962594692703,\n",
       "   0.033200015618613854,\n",
       "   -1.4379932864244909,\n",
       "   -2.9975501977813357]}}"
      ]
     },
     "execution_count": 15,
     "metadata": {},
     "output_type": "execute_result"
    }
   ],
   "source": [
    "d"
   ]
  },
  {
   "cell_type": "code",
   "execution_count": null,
   "metadata": {},
   "outputs": [],
   "source": []
  }
 ],
 "metadata": {
  "kernelspec": {
   "display_name": "Python 2",
   "language": "python",
   "name": "python2"
  },
  "language_info": {
   "codemirror_mode": {
    "name": "ipython",
    "version": 2
   },
   "file_extension": ".py",
   "mimetype": "text/x-python",
   "name": "python",
   "nbconvert_exporter": "python",
   "pygments_lexer": "ipython2",
   "version": "2.7.15rc1"
  }
 },
 "nbformat": 4,
 "nbformat_minor": 2
}
